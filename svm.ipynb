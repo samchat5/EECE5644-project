{
 "cells": [
  {
   "cell_type": "code",
   "execution_count": null,
   "metadata": {},
   "outputs": [],
   "source": []
  }
 ],
 "metadata": {
  "kernelspec": {
   "display_name": "Python 3.10.4 ('EECE5644-project-h_3WSu4s')",
   "language": "python",
   "name": "python3"
  },
  "language_info": {
   "name": "python",
   "version": "3.10.4"
  },
  "orig_nbformat": 4,
  "vscode": {
   "interpreter": {
    "hash": "ca5f8d31b49d1b8cd423c5600386d99eef4744bb69a2db5f889b18d6d8a7f25b"
   }
  }
 },
 "nbformat": 4,
 "nbformat_minor": 2
}
